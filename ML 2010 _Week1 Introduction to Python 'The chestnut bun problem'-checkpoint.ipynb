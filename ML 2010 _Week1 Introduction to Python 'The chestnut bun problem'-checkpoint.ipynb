{
 "cells": [
  {
   "cell_type": "code",
   "execution_count": null,
   "metadata": {},
   "outputs": [],
   "source": [
    "\"\"\"\n",
    "The chestnut bun problem\n",
    "\"\"\"\n",
    "import math\n",
    "def byevine(obj, space):\n",
    "    \"\"\"\n",
    "    A function that verifies the amount of time to cover the initial space. \n",
    "    In this case is chestnut buns and the Solar System respectively\n",
    "    Parameteres\n",
    "    --------------\n",
    "    obj: int or float\n",
    "        Volume of the object that fills the space\n",
    "    space: int or float\n",
    "        Volume of the space that needs to be filled    \n",
    "    Returns\n",
    "    --------------\n",
    "    time: int or float\n",
    "        Amount of time consumed to fully fill the space with the object\n",
    "    --------------    \n",
    "    \"Byevine\" is a medicine, and if you sprinkle it on it, the object will \n",
    "    double every 5 minutes\n",
    "    \"\"\"\n",
    "    time = 5*math.log(space/obj, 2)\n",
    "    return time\n",
    "buns_diameter = 0.013\n",
    "ss_diameter = 287.46*pow(10,12) \n",
    "buns_volume = (4/3)*math.pi*pow(buns_diameter/2,2)\n",
    "ss_volume = (4/3)*math.pi*pow(ss_diameter/2,2)\n",
    "\"\"\"\n",
    "The Solar Systems' diameter is about 287.46 billion km.\n",
    "The diameter of a normal chestnut buns is around 13cm\n",
    "Assume the Solar System and the buns has a shape of sphere\n",
    "Reference: https://www.google.com/search?client=firefox-b-d&q=area+of+solar+system\n",
    "\"\"\"\n",
    "time = byevine(obj = buns_volume, space = ss_volume)\n",
    "visual = []\n",
    "visual.append(buns_volume)\n",
    "for t in range(int(time)):\n",
    "    buns_volume = buns_volume*pow(2,t/5)\n",
    "    visual.append(buns_volume)\n",
    "import matplotlib.pyplot as plt\n",
    "%matplotlib inline\n",
    "plt.title(\"Buns volume through time\")\n",
    "plt.xlabel(\"Time stamp [minute]\")\n",
    "plt.ylabel(\"Buns Volume[m3]\")\n",
    "plt.plot(visual) \n",
    "plt.show()\n",
    "print(\"The Solar System will be filled after: {} minutes\". format(time))"
   ]
  }
 ],
 "metadata": {
  "kernelspec": {
   "display_name": "Python 3",
   "language": "python",
   "name": "python3"
  },
  "language_info": {
   "codemirror_mode": {
    "name": "ipython",
    "version": 3
   },
   "file_extension": ".py",
   "mimetype": "text/x-python",
   "name": "python",
   "nbconvert_exporter": "python",
   "pygments_lexer": "ipython3",
   "version": "3.8.5"
  }
 },
 "nbformat": 4,
 "nbformat_minor": 4
}
