{
 "cells": [
  {
   "cell_type": "code",
   "execution_count": 1,
   "metadata": {},
   "outputs": [
    {
     "name": "stdout",
     "output_type": "stream",
     "text": [
      "8\n",
      "Arrange wheat on a plate of 4 squares (list)：[1, 2, 4, 8]\n",
      "Arrange wheat on a plate of 4 squares (ndarray)：[1 2 4 8]\n"
     ]
    }
   ],
   "source": [
    "import numpy as np\n",
    "n_squares = 4\n",
    "small_board_list = [1]\n",
    "for _ in range(n_squares - 1):\n",
    "    small_board_list.append(2*small_board_list[-1])\n",
    "small_board_ndarray = np.array(small_board_list)\n",
    "print(small_board_list[-1])\n",
    "print(\"Arrange wheat on a plate of 4 squares (list)：{}\".format(small_board_list))\n",
    "print(\"Arrange wheat on a plate of 4 squares (ndarray)：{}\".format(small_board_ndarray))"
   ]
  },
  {
   "cell_type": "code",
   "execution_count": 2,
   "metadata": {},
   "outputs": [
    {
     "name": "stdout",
     "output_type": "stream",
     "text": [
      "Number of wheats in [1,1]: 1\n",
      "Number of wheats in [1,2]: 2\n",
      "Number of wheats in [2,1]: 4\n",
      "Number of wheats in [2,2]: 8\n",
      "Arrange wheat on a plate of 4 squares (ndarray)：[1 2 4 8]\n"
     ]
    }
   ],
   "source": [
    "\"\"\"\n",
    "Problem 1 - Number of wheat on a 2 x 2 square chess board\n",
    "\"\"\"\n",
    "import numpy as np\n",
    "n_squares = 4\n",
    "row = 2\n",
    "column = 2\n",
    "small_board_list = [1]\n",
    "for _ in range(n_squares - 1):\n",
    "    small_board_list.append(2*small_board_list[-1])\n",
    "small_board_ndarray = np.array(small_board_list)\n",
    "small_board_ndarray1 = small_board_ndarray.reshape(2,2)\n",
    "for t,row in enumerate(small_board_ndarray1):\n",
    "    for j,value in enumerate(row):\n",
    "        print(\"Number of wheats in [{},{}]: {}\".format(t+1,j+1,value))\n",
    "print(\"Arrange wheat on a plate of 4 squares (ndarray)：{}\".format(small_board_ndarray))"
   ]
  },
  {
   "cell_type": "code",
   "execution_count": 3,
   "metadata": {},
   "outputs": [
    {
     "name": "stdout",
     "output_type": "stream",
     "text": [
      "Number of wheats in [1,1]: 1\n",
      "Number of wheats in [1,2]: 2\n",
      "Number of wheats in [1,3]: 4\n",
      "Number of wheats in [1,4]: 8\n",
      "Number of wheats in [1,5]: 16\n",
      "Number of wheats in [1,6]: 32\n",
      "Number of wheats in [1,7]: 64\n",
      "Number of wheats in [1,8]: 128\n",
      "Number of wheats in [2,1]: 256\n",
      "Number of wheats in [2,2]: 512\n",
      "Number of wheats in [2,3]: 1024\n",
      "Number of wheats in [2,4]: 2048\n",
      "Number of wheats in [2,5]: 4096\n",
      "Number of wheats in [2,6]: 8192\n",
      "Number of wheats in [2,7]: 16384\n",
      "Number of wheats in [2,8]: 32768\n",
      "Number of wheats in [3,1]: 65536\n",
      "Number of wheats in [3,2]: 131072\n",
      "Number of wheats in [3,3]: 262144\n",
      "Number of wheats in [3,4]: 524288\n",
      "Number of wheats in [3,5]: 1048576\n",
      "Number of wheats in [3,6]: 2097152\n",
      "Number of wheats in [3,7]: 4194304\n",
      "Number of wheats in [3,8]: 8388608\n",
      "Number of wheats in [4,1]: 16777216\n",
      "Number of wheats in [4,2]: 33554432\n",
      "Number of wheats in [4,3]: 67108864\n",
      "Number of wheats in [4,4]: 134217728\n",
      "Number of wheats in [4,5]: 268435456\n",
      "Number of wheats in [4,6]: 536870912\n",
      "Number of wheats in [4,7]: 1073741824\n",
      "Number of wheats in [4,8]: 2147483648\n",
      "Number of wheats in [5,1]: 4294967296\n",
      "Number of wheats in [5,2]: 8589934592\n",
      "Number of wheats in [5,3]: 17179869184\n",
      "Number of wheats in [5,4]: 34359738368\n",
      "Number of wheats in [5,5]: 68719476736\n",
      "Number of wheats in [5,6]: 137438953472\n",
      "Number of wheats in [5,7]: 274877906944\n",
      "Number of wheats in [5,8]: 549755813888\n",
      "Number of wheats in [6,1]: 1099511627776\n",
      "Number of wheats in [6,2]: 2199023255552\n",
      "Number of wheats in [6,3]: 4398046511104\n",
      "Number of wheats in [6,4]: 8796093022208\n",
      "Number of wheats in [6,5]: 17592186044416\n",
      "Number of wheats in [6,6]: 35184372088832\n",
      "Number of wheats in [6,7]: 70368744177664\n",
      "Number of wheats in [6,8]: 140737488355328\n",
      "Number of wheats in [7,1]: 281474976710656\n",
      "Number of wheats in [7,2]: 562949953421312\n",
      "Number of wheats in [7,3]: 1125899906842624\n",
      "Number of wheats in [7,4]: 2251799813685248\n",
      "Number of wheats in [7,5]: 4503599627370496\n",
      "Number of wheats in [7,6]: 9007199254740992\n",
      "Number of wheats in [7,7]: 18014398509481984\n",
      "Number of wheats in [7,8]: 36028797018963968\n",
      "Number of wheats in [8,1]: 72057594037927936\n",
      "Number of wheats in [8,2]: 144115188075855872\n",
      "Number of wheats in [8,3]: 288230376151711744\n",
      "Number of wheats in [8,4]: 576460752303423488\n",
      "Number of wheats in [8,5]: 1152921504606846976\n",
      "Number of wheats in [8,6]: 2305843009213693952\n",
      "Number of wheats in [8,7]: 4611686018427387904\n",
      "Number of wheats in [8,8]: 9223372036854775808\n"
     ]
    }
   ],
   "source": [
    "\"\"\"\n",
    "Problem 2 - Expansion to n × m mass\n",
    "\"\"\"\n",
    "import numpy as np\n",
    "def nxm_mass(row, column):\n",
    "    n_squares = row*column\n",
    "    small_board_list = [1]\n",
    "    for _ in range(n_squares - 1):\n",
    "        small_board_list.append(2*small_board_list[-1])\n",
    "    small_board_ndarray = np.array(small_board_list)\n",
    "    small_board_ndarray1 = small_board_ndarray.reshape(row,column)\n",
    "    return small_board_ndarray1\n",
    "small_board_list = nxm_mass(row = 8, column = 8)\n",
    "for t,row in enumerate(small_board_list):\n",
    "    for j,value in enumerate(row):\n",
    "        print(\"Number of wheats in [{},{}]: {:.0f}\".format(t+1,j+1,value))"
   ]
  },
  {
   "cell_type": "code",
   "execution_count": 4,
   "metadata": {},
   "outputs": [
    {
     "name": "stdout",
     "output_type": "stream",
     "text": [
      "Total number of wheat on the chess board: 9223372036854775807\n"
     ]
    },
    {
     "data": {
      "image/png": "[encoded data removed]",
      "text/plain": [
       "<Figure size 432x288 with 1 Axes>"
      ]
     },
     "metadata": {
      "needs_background": "light"
     },
     "output_type": "display_data"
    }
   ],
   "source": [
    "\"\"\"\n",
    "Problem 3 - Total number of wheat\n",
    "\"\"\"\n",
    "import numpy as np\n",
    "import matplotlib.pyplot as plt\n",
    "row = 8\n",
    "column = 8\n",
    "def nxm_mass(row, column):\n",
    "    ty = 0\n",
    "    n_squares = row*column\n",
    "    small_board_list = [1]\n",
    "    for _ in range(n_squares - 1):\n",
    "        ty += small_board_list[-1]\n",
    "        small_board_list.append(2*small_board_list[-1])\n",
    "    small_board_ndarray = np.array(small_board_list)\n",
    "    small_board_ndarray1 = small_board_ndarray.reshape(row,column)\n",
    "    print(\"Total number of wheat on the chess board: {}\".format(ty))\n",
    "    return small_board_ndarray1\n",
    "small_board_list1 = nxm_mass(row , column)\n",
    "av_column_array = (small_board_list1.sum(axis=0))/column\n",
    "%matplotlib inline\n",
    "plt.xlabel(\"column\")\n",
    "plt.ylabel(\"number\")\n",
    "plt.title(\"number in each column\")\n",
    "plt.bar(np.arange(1,column+1), av_column_array)\n",
    "plt.show()"
   ]
  },
  {
   "cell_type": "code",
   "execution_count": 5,
   "metadata": {},
   "outputs": [
    {
     "name": "stdout",
     "output_type": "stream",
     "text": [
      "Total number of wheat on the chess board: 9223372036854775807\n"
     ]
    },
    {
     "data": {
      "image/png": "[encoded data removed]",
      "text/plain": [
       "<Figure size 432x288 with 1 Axes>"
      ]
     },
     "metadata": {
      "needs_background": "light"
     },
     "output_type": "display_data"
    }
   ],
   "source": [
    "\"\"\"\n",
    "Problem 4 - Heat map of the number of wheat\n",
    "\"\"\"\n",
    "heatmap = nxm_mass(row = 8, column = 8)\n",
    "plt.xlabel(\"Row\")\n",
    "plt.ylabel(\"Column\")\n",
    "plt.title(\"Heatmap\")\n",
    "plt.pcolor(heatmap)\n",
    "plt.show()"
   ]
  },
  {
   "cell_type": "code",
   "execution_count": 6,
   "metadata": {},
   "outputs": [
    {
     "name": "stdout",
     "output_type": "stream",
     "text": [
      "First half of chess board: 2147483647\n",
      "\n",
      "Total number of wheat on the first half of chess board:[[1.00000000e+00 2.00000000e+00 4.00000000e+00 8.00000000e+00\n",
      "  1.60000000e+01 3.20000000e+01 6.40000000e+01 1.28000000e+02]\n",
      " [2.56000000e+02 5.12000000e+02 1.02400000e+03 2.04800000e+03\n",
      "  4.09600000e+03 8.19200000e+03 1.63840000e+04 3.27680000e+04]\n",
      " [6.55360000e+04 1.31072000e+05 2.62144000e+05 5.24288000e+05\n",
      "  1.04857600e+06 2.09715200e+06 4.19430400e+06 8.38860800e+06]\n",
      " [1.67772160e+07 3.35544320e+07 6.71088640e+07 1.34217728e+08\n",
      "  2.68435456e+08 5.36870912e+08 1.07374182e+09 2.14748365e+09]]\n",
      "\n",
      "Second half of chess board: 9223372034707292160\n",
      "\n",
      "Total number of wheat on the second half of chess board: [[4.29496730e+09 8.58993459e+09 1.71798692e+10 3.43597384e+10\n",
      "  6.87194767e+10 1.37438953e+11 2.74877907e+11 5.49755814e+11]\n",
      " [1.09951163e+12 2.19902326e+12 4.39804651e+12 8.79609302e+12\n",
      "  1.75921860e+13 3.51843721e+13 7.03687442e+13 1.40737488e+14]\n",
      " [2.81474977e+14 5.62949953e+14 1.12589991e+15 2.25179981e+15\n",
      "  4.50359963e+15 9.00719925e+15 1.80143985e+16 3.60287970e+16]\n",
      " [7.20575940e+16 1.44115188e+17 2.88230376e+17 5.76460752e+17\n",
      "  1.15292150e+18 2.30584301e+18 4.61168602e+18 9.22337204e+18]]\n",
      "\n",
      "The number of wheat in the second half of the chessboard is greater than the first half by : 4294967297.0 times\n"
     ]
    }
   ],
   "source": [
    "\"\"\"\n",
    "Problem 5 - How many times is the second half as long as the first half?\n",
    "\"\"\"\n",
    "first_half = small_board_list1[0:4]\n",
    "second_half = small_board_list1[4:8]\n",
    "def total(row, column):\n",
    "    ty = 0\n",
    "    n_squares = row*column\n",
    "    small_board_list = [1]\n",
    "    for _ in range(n_squares - 1):\n",
    "        ty += small_board_list[-1]\n",
    "        small_board_list.append(2*small_board_list[-1])\n",
    "    return ty\n",
    "ty = total(row = 8, column = 8) \n",
    "first_half_wheat = total(row = 4, column = 8)\n",
    "second_half_wheat = ty - first_half_wheat\n",
    "ratio = second_half_wheat/first_half_wheat\n",
    "print(\"First half of chess board: {}\\n\".format(first_half_wheat))\n",
    "print(\"Total number of wheat on the first half of chess board:{}\\n\".format(first_half)) \n",
    "print(\"Second half of chess board: {}\\n\".format(second_half_wheat))\n",
    "print(\"Total number of wheat on the second half of chess board: {}\\n\".format(second_half))\n",
    "print(\"The number of wheat in the second half of the chessboard is greater than the first half by : {} times\".format(ratio))"
   ]
  },
  {
   "cell_type": "code",
   "execution_count": 7,
   "metadata": {},
   "outputs": [
    {
     "name": "stdout",
     "output_type": "stream",
     "text": [
      "USING NARRAY NP.APPEND() AND A FOR STATEMENT\n",
      "\n",
      "Number of wheats in [1,1]: 1\n",
      "Number of wheats in [1,2]: 2\n",
      "Number of wheats in [1,3]: 4\n",
      "Number of wheats in [1,4]: 8\n",
      "Number of wheats in [1,5]: 16\n",
      "Number of wheats in [1,6]: 32\n",
      "Number of wheats in [1,7]: 64\n",
      "Number of wheats in [1,8]: 128\n",
      "Number of wheats in [2,1]: 256\n",
      "Number of wheats in [2,2]: 512\n",
      "Number of wheats in [2,3]: 1024\n",
      "Number of wheats in [2,4]: 2048\n",
      "Number of wheats in [2,5]: 4096\n",
      "Number of wheats in [2,6]: 8192\n",
      "Number of wheats in [2,7]: 16384\n",
      "Number of wheats in [2,8]: 32768\n",
      "Number of wheats in [3,1]: 65536\n",
      "Number of wheats in [3,2]: 131072\n",
      "Number of wheats in [3,3]: 262144\n",
      "Number of wheats in [3,4]: 524288\n",
      "Number of wheats in [3,5]: 1048576\n",
      "Number of wheats in [3,6]: 2097152\n",
      "Number of wheats in [3,7]: 4194304\n",
      "Number of wheats in [3,8]: 8388608\n",
      "Number of wheats in [4,1]: 16777216\n",
      "Number of wheats in [4,2]: 33554432\n",
      "Number of wheats in [4,3]: 67108864\n",
      "Number of wheats in [4,4]: 134217728\n",
      "Number of wheats in [4,5]: 268435456\n",
      "Number of wheats in [4,6]: 536870912\n",
      "Number of wheats in [4,7]: 1073741824\n",
      "Number of wheats in [4,8]: 2147483648\n",
      "Number of wheats in [5,1]: 4294967296\n",
      "Number of wheats in [5,2]: 8589934592\n",
      "Number of wheats in [5,3]: 17179869184\n",
      "Number of wheats in [5,4]: 34359738368\n",
      "Number of wheats in [5,5]: 68719476736\n",
      "Number of wheats in [5,6]: 137438953472\n",
      "Number of wheats in [5,7]: 274877906944\n",
      "Number of wheats in [5,8]: 549755813888\n",
      "Number of wheats in [6,1]: 1099511627776\n",
      "Number of wheats in [6,2]: 2199023255552\n",
      "Number of wheats in [6,3]: 4398046511104\n",
      "Number of wheats in [6,4]: 8796093022208\n",
      "Number of wheats in [6,5]: 17592186044416\n",
      "Number of wheats in [6,6]: 35184372088832\n",
      "Number of wheats in [6,7]: 70368744177664\n",
      "Number of wheats in [6,8]: 140737488355328\n",
      "Number of wheats in [7,1]: 281474976710656\n",
      "Number of wheats in [7,2]: 562949953421312\n",
      "Number of wheats in [7,3]: 1125899906842624\n",
      "Number of wheats in [7,4]: 2251799813685248\n",
      "Number of wheats in [7,5]: 4503599627370496\n",
      "Number of wheats in [7,6]: 9007199254740992\n",
      "Number of wheats in [7,7]: 18014398509481984\n",
      "Number of wheats in [7,8]: 36028797018963968\n",
      "Number of wheats in [8,1]: 72057594037927936\n",
      "Number of wheats in [8,2]: 144115188075855872\n",
      "Number of wheats in [8,3]: 288230376151711744\n",
      "Number of wheats in [8,4]: 576460752303423488\n",
      "Number of wheats in [8,5]: 1152921504606846976\n",
      "Number of wheats in [8,6]: 2305843009213693952\n",
      "Number of wheats in [8,7]: 4611686018427387904\n",
      "Number of wheats in [8,8]: 9223372036854775808\n",
      "\n",
      "USING BROADCAST\n",
      "Number of wheats in [1,1]: 1\n",
      "Number of wheats in [1,2]: 2\n",
      "Number of wheats in [1,3]: 4\n",
      "Number of wheats in [1,4]: 8\n",
      "Number of wheats in [1,5]: 16\n",
      "Number of wheats in [1,6]: 32\n",
      "Number of wheats in [1,7]: 64\n",
      "Number of wheats in [1,8]: 128\n",
      "Number of wheats in [2,1]: 256\n",
      "Number of wheats in [2,2]: 512\n",
      "Number of wheats in [2,3]: 1024\n",
      "Number of wheats in [2,4]: 2048\n",
      "Number of wheats in [2,5]: 4096\n",
      "Number of wheats in [2,6]: 8192\n",
      "Number of wheats in [2,7]: 16384\n",
      "Number of wheats in [2,8]: 32768\n",
      "Number of wheats in [3,1]: 65536\n",
      "Number of wheats in [3,2]: 131072\n",
      "Number of wheats in [3,3]: 262144\n",
      "Number of wheats in [3,4]: 524288\n",
      "Number of wheats in [3,5]: 1048576\n",
      "Number of wheats in [3,6]: 2097152\n",
      "Number of wheats in [3,7]: 4194304\n",
      "Number of wheats in [3,8]: 8388608\n",
      "Number of wheats in [4,1]: 16777216\n",
      "Number of wheats in [4,2]: 33554432\n",
      "Number of wheats in [4,3]: 67108864\n",
      "Number of wheats in [4,4]: 134217728\n",
      "Number of wheats in [4,5]: 268435456\n",
      "Number of wheats in [4,6]: 536870912\n",
      "Number of wheats in [4,7]: 1073741824\n",
      "Number of wheats in [4,8]: 2147483648\n",
      "Number of wheats in [5,1]: 4294967296\n",
      "Number of wheats in [5,2]: 8589934592\n",
      "Number of wheats in [5,3]: 17179869184\n",
      "Number of wheats in [5,4]: 34359738368\n",
      "Number of wheats in [5,5]: 68719476736\n",
      "Number of wheats in [5,6]: 137438953472\n",
      "Number of wheats in [5,7]: 274877906944\n",
      "Number of wheats in [5,8]: 549755813888\n",
      "Number of wheats in [6,1]: 1099511627776\n",
      "Number of wheats in [6,2]: 2199023255552\n",
      "Number of wheats in [6,3]: 4398046511104\n",
      "Number of wheats in [6,4]: 8796093022208\n",
      "Number of wheats in [6,5]: 17592186044416\n",
      "Number of wheats in [6,6]: 35184372088832\n",
      "Number of wheats in [6,7]: 70368744177664\n",
      "Number of wheats in [6,8]: 140737488355328\n",
      "Number of wheats in [7,1]: 281474976710656\n",
      "Number of wheats in [7,2]: 562949953421312\n",
      "Number of wheats in [7,3]: 1125899906842624\n",
      "Number of wheats in [7,4]: 2251799813685248\n",
      "Number of wheats in [7,5]: 4503599627370496\n",
      "Number of wheats in [7,6]: 9007199254740992\n",
      "Number of wheats in [7,7]: 18014398509481984\n",
      "Number of wheats in [7,8]: 36028797018963968\n",
      "Number of wheats in [8,1]: 72057594037927936\n",
      "Number of wheats in [8,2]: 144115188075855872\n",
      "Number of wheats in [8,3]: 288230376151711744\n",
      "Number of wheats in [8,4]: 576460752303423488\n",
      "Number of wheats in [8,5]: 1152921504606846976\n",
      "Number of wheats in [8,6]: 2305843009213693952\n",
      "Number of wheats in [8,7]: 4611686018427387904\n",
      "Number of wheats in [8,8]: 9223372036854775808\n"
     ]
    }
   ],
   "source": [
    "\"\"\"\n",
    "Problem 6 - Expansion to n × m mass by another calculation method\n",
    "\"\"\"\n",
    "#Using ndarray's np.append ()and a for statement\n",
    "print(\"USING NARRAY NP.APPEND() AND A FOR STATEMENT\\n\")\n",
    "def nxm_mass_nd(row, column):\n",
    "    n_squares = row*column\n",
    "    board_ndarray = np.array([1]).astype(np.uint64)\n",
    "    for _ in range(n_squares - 1):\n",
    "        board_ndarray = np.append(board_ndarray, 2*board_ndarray[-1])\n",
    "    small_board_ndarray1 = np.reshape(board_ndarray,(-1,8))\n",
    "    return small_board_ndarray1\n",
    "board_ndarray = nxm_mass_nd(row = 8,column = 8)\n",
    "for t,row in enumerate(board_ndarray):\n",
    "    for j,val in enumerate(row):\n",
    "        print(\"Number of wheats in [{},{}]: {:.0f}\".format(t+1,j+1,val))\n",
    "#Using broadcast\n",
    "print(\"\\nUSING BROADCAST\")\n",
    "def nxm_mass_br(row, column):\n",
    "    n_squares = row*column\n",
    "    indices_of_squares = np.arange(n_squares).astype(np.uint64)\n",
    "    board_ndarray = 2**indices_of_squares\n",
    "    small_board_ndarray1 = np.reshape(board_ndarray,(-1,8))\n",
    "    return small_board_ndarray1\n",
    "board_ndarray = nxm_mass_br(8, 8)\n",
    "for t,row in enumerate(board_ndarray):\n",
    "    for j,val in enumerate(row):\n",
    "        print(\"Number of wheats in [{},{}]: {:.0f}\".format(t+1,j+1,val))"
   ]
  },
  {
   "cell_type": "code",
   "execution_count": 8,
   "metadata": {},
   "outputs": [
    {
     "name": "stdout",
     "output_type": "stream",
     "text": [
      "369 µs ± 6.02 µs per loop (mean ± std. dev. of 7 runs, 1000 loops each)\n"
     ]
    }
   ],
   "source": [
    "%%timeit \n",
    "board_ndarray = nxm_mass_nd(8, 8)"
   ]
  },
  {
   "cell_type": "code",
   "execution_count": 9,
   "metadata": {},
   "outputs": [
    {
     "name": "stdout",
     "output_type": "stream",
     "text": [
      "4.64 µs ± 188 ns per loop (mean ± std. dev. of 7 runs, 100000 loops each)\n"
     ]
    }
   ],
   "source": [
    "%%timeit \n",
    "board_ndarray = nxm_mass_br(8, 8)"
   ]
  },
  {
   "cell_type": "code",
   "execution_count": 10,
   "metadata": {},
   "outputs": [
    {
     "name": "stdout",
     "output_type": "stream",
     "text": [
      "The broadcast methos is faster since the code is shorter, the execution speed is faster. Moreover, memory usage can be saved\n"
     ]
    }
   ],
   "source": [
    "print(\"The broadcast methos is faster since the code is shorter, the execution speed is faster. Moreover, memory usage can be saved\")"
   ]
  }
 ],
 "metadata": {
  "kernelspec": {
   "display_name": "Python 3",
   "language": "python",
   "name": "python3"
  },
  "language_info": {
   "codemirror_mode": {
    "name": "ipython",
    "version": 3
   },
   "file_extension": ".py",
   "mimetype": "text/x-python",
   "name": "python",
   "nbconvert_exporter": "python",
   "pygments_lexer": "ipython3",
   "version": "3.8.5"
  }
 },
 "nbformat": 4,
 "nbformat_minor": 4
}
