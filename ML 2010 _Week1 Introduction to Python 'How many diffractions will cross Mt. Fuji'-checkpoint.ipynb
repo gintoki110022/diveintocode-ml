{
 "cells": [
  {
   "cell_type": "code",
   "execution_count": 10,
   "metadata": {},
   "outputs": [
    {
     "name": "stdout",
     "output_type": "stream",
     "text": [
      "Minimum number of folds over Mt. Fuji: 25 times\n"
     ]
    }
   ],
   "source": [
    "\"\"\"\n",
    "Problem 1 - Minimum number of folds over Mt. Fuji\n",
    "\"\"\"\n",
    "import math\n",
    "thickness = 0.00008\n",
    "fuji_height = 3776\n",
    "no_fold = math.log(fuji_height/thickness,2)\n",
    "print(\"Minimum number of folds over Mt. Fuji: {} times\". format(int(no_fold)))"
   ]
  },
  {
   "cell_type": "code",
   "execution_count": 8,
   "metadata": {},
   "outputs": [
    {
     "name": "stdout",
     "output_type": "stream",
     "text": [
      "Minimum number of folds to reach Alpha Centauri A: 68 times\n"
     ]
    }
   ],
   "source": [
    "\"\"\"\n",
    "Problem 2 - Creating a function corresponding to an arbitrary thickness\n",
    "\"\"\"\n",
    "import math\n",
    "def paper_thickness(distance, thickness = 0.00008):\n",
    "    \"\"\"\n",
    "    A function that inputs the distance and outputs how many times it bends\n",
    "    in order to approximatly meet the distance\n",
    "    Parameter\n",
    "    --------------\n",
    "    distance: int or float\n",
    "        Inital distance \n",
    "    thickness: int or float\n",
    "        Inital thickness for bending (default : 0.00008)    \n",
    "    Returns\n",
    "    --------------\n",
    "    no_fold: int\n",
    "        Number of times paper bended\n",
    "    \"\"\"\n",
    "    no_fold = math.log(distance/thickness,2)\n",
    "    return no_fold\n",
    "\"\"\"\n",
    "Alpha Centauri A is the closet non-sun star caculated from Earth with \n",
    "approximatly 4.3 light-years ~= 4x10^16 meters\n",
    "References: https://www.google.com/search?client=firefox-b-d&ei=9AdOYOrmCe-Ur7wPgYKroAI&q=closest+non+sun+star+from+earth+distance&oq=closest+non+sun+star+from+earth+dis&gs_lcp=Cgdnd3Mtd2l6EAEYAjIFCCEQoAEyBQghEKABMgUIIRCgATIFCCEQoAEyBQghEKABOgcIABBHELADOggIIRAWEB0QHlCzV1iSX2CDcWgBcAJ4AIABlwGIAYMFkgEDMC41mAEAoAEBqgEHZ3dzLXdpesgBBMABAQ&sclient=gws-wiz\n",
    "\"\"\"\n",
    "distance_a = 4.3*pow(10,16)\n",
    "no_fold = paper_thickness(distance = distance_a, thickness=0.00008 )\n",
    "print(\"Minimum number of folds to reach Alpha Centauri A: {} times\". format(int(no_fold)))"
   ]
  },
  {
   "cell_type": "code",
   "execution_count": 13,
   "metadata": {},
   "outputs": [
    {
     "name": "stdout",
     "output_type": "stream",
     "text": [
      "Length of paper needed to reach the Moon: 1.1655570544205866e+37 m\n",
      "Length of paper needed to get over Mt.Fuji: 93319549629.64012 m\n",
      "Length of paper needed to reach Alpha Centauri A: 1.1655570544205866e+37 m\n"
     ]
    }
   ],
   "source": [
    "\"\"\"\n",
    "Problem 3 - Required paper length\n",
    "\"\"\"\n",
    "import math\n",
    "def real_paper_thickness(distance, thickness = 0.00008):\n",
    "    \"\"\"\n",
    "    A function that inputs the distance and outputs how many times it bends\n",
    "    in order to approximatly meet the distance\n",
    "    Parameter\n",
    "    --------------\n",
    "    distance: int or float\n",
    "        Inital distance \n",
    "    thickness: int or float\n",
    "        Inital thickness for bending (default : 0.00008)    \n",
    "    Returns\n",
    "    --------------\n",
    "    length: int or float\n",
    "         length L of the paper required to diffract the paper of n times\n",
    "    \"\"\"\n",
    "    no_fold = math.log(distance/thickness,2)\n",
    "    length = ((math.pi*thickness)/6)*(pow(2,no_fold)+4)*(pow(2,no_fold)-1)\n",
    "    return length\n",
    "\"\"\"\n",
    "Alpha Centauri A is the closet non-sun star caculated from Sun with \n",
    "approximatly 4.22 light-years ~= 4.22x10^16 meters\n",
    "References: https://www.google.com/search?client=firefox-b-d&ei=9AdOYOrmCe-Ur7wPgYKroAI&q=closest+non+sun+star+from+earth+distance&oq=closest+non+sun+star+from+earth+dis&gs_lcp=Cgdnd3Mtd2l6EAEYAjIFCCEQoAEyBQghEKABMgUIIRCgATIFCCEQoAEyBQghEKABOgcIABBHELADOggIIRAWEB0QHlCzV1iSX2CDcWgBcAJ4AIABlwGIAYMFkgEDMC41mAEAoAEBqgEHZ3dzLXdpesgBBMABAQ&sclient=gws-wiz\n",
    "\"\"\"\n",
    "distance_moon = 4.22*pow(10,16)\n",
    "distance_a = 4.22*pow(10,16)\n",
    "length_moon = real_paper_thickness(distance = distance_moon, thickness=0.00008)\n",
    "length_fuji = real_paper_thickness(distance = fuji_height, thickness=0.00008 )\n",
    "length_a = real_paper_thickness(distance = distance_a, thickness=0.00008 )\n",
    "print(\"Length of paper needed to reach the Moon: {} m\". format(length_moon))\n",
    "print(\"Length of paper needed to get over Mt.Fuji: {} m\". format(length_fuji))\n",
    "print(\"Length of paper needed to reach Alpha Centauri A: {} m\". format(length_a))      "
   ]
  }
 ],
 "metadata": {
  "kernelspec": {
   "display_name": "Python 3",
   "language": "python",
   "name": "python3"
  },
  "language_info": {
   "codemirror_mode": {
    "name": "ipython",
    "version": 3
   },
   "file_extension": ".py",
   "mimetype": "text/x-python",
   "name": "python",
   "nbconvert_exporter": "python",
   "pygments_lexer": "ipython3",
   "version": "3.8.5"
  }
 },
 "nbformat": 4,
 "nbformat_minor": 4
}
