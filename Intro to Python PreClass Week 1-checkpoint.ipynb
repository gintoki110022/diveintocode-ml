{
 "cells": [
  {
   "cell_type": "code",
   "execution_count": null,
   "metadata": {},
   "outputs": [],
   "source": [
    "\"\"\"\n",
    "Problem 1\n",
    "\"\"\"\n",
    "THICKNESS = 0.00008\n",
    "folded_thickness = THICKNESS*pow(2,43)\n",
    "print(\"Thickness: {} meters\".format(folded_thickness))"
   ]
  },
  {
   "cell_type": "code",
   "execution_count": null,
   "metadata": {},
   "outputs": [],
   "source": [
    "\"\"\"\n",
    "Problem 2\n",
    "\"\"\"\n",
    "print(\"Thickness: {: .2f}x10000 kilometers\".format(folded_thickness/10000000))"
   ]
  },
  {
   "cell_type": "code",
   "execution_count": null,
   "metadata": {},
   "outputs": [],
   "source": [
    "\"\"\"\n",
    "Problem 3\n",
    "\"\"\"\n",
    "THICKNESS = 0.00008\n",
    "for t in range(43):\n",
    "    THICKNESS = THICKNESS*2\n",
    "print(\"Thickness: {} meters\".format(THICKNESS))"
   ]
  },
  {
   "cell_type": "code",
   "execution_count": null,
   "metadata": {},
   "outputs": [],
   "source": [
    "\"\"\"\n",
    "Problem 4 with exponentiation \n",
    "\"\"\"\n",
    "%%timeit\n",
    "folded_thickness = THICKNESS*pow(2,43)\n",
    "print(\"Thickness: {} meters\".format(folded_thickness))"
   ]
  },
  {
   "cell_type": "code",
   "execution_count": null,
   "metadata": {},
   "outputs": [],
   "source": [
    "\"\"\"\n",
    "Problem 4 with for statement \n",
    "\"\"\"\n",
    "%%timeit\n",
    "THICKNESS = 0.00008\n",
    "for t in range(43):\n",
    "    THICKNESS = THICKNESS*2\n",
    "print(\"Thickness: {} meters\".format(THICKNESS))"
   ]
  },
  {
   "cell_type": "code",
   "execution_count": null,
   "metadata": {},
   "outputs": [],
   "source": [
    "\"\"\"\n",
    "Problem 5 \n",
    "\"\"\"\n",
    "THICKNESS = 0.00008\n",
    "visual = []\n",
    "visual.append(THICKNESS)\n",
    "for t in range(43):\n",
    "    THICKNESS = THICKNESS*2\n",
    "    visual.append(THICKNESS)\n",
    "print(\"Length of the list Visual:\",len(visual)) \n",
    "print(\"Elements of the list Visual:\",visual)"
   ]
  },
  {
   "cell_type": "code",
   "execution_count": null,
   "metadata": {},
   "outputs": [],
   "source": [
    "\"\"\"\n",
    "Problem 6 \n",
    "\"\"\"\n",
    "import matplotlib.pyplot as plt\n",
    "%matplotlib inline\n",
    "plt.title(\"thickness of folded paper\")\n",
    "plt.xlabel(\"number of folds\")\n",
    "plt.ylabel(\"thickness[m]\")\n",
    "plt.plot(visual) # Enter the variable name of the list in \"List name\"\n",
    "plt.show()\n",
    "print(\"After a glance of view of the above graph, it has described a typical expotentional function.\\nSince the initial value is relatively small (THICKNESS = 0.00008), the result began to change\\nrapidly until the 35th fold.\")"
   ]
  },
  {
   "cell_type": "code",
   "execution_count": null,
   "metadata": {},
   "outputs": [],
   "source": [
    "\"\"\"\n",
    "Problem 7 \n",
    "1st Customize graph\n",
    "\"\"\"\n",
    "plt.title(\"Thickness of folded paper\")\n",
    "plt.xlabel(\"Number of folds\")\n",
    "plt.ylabel(\"Thickness[m]\")\n",
    "plt.tick_params(labelsize=15) # Make settings related to axis values\n",
    "plt.plot(visual,color='red')\n",
    "plt.show()"
   ]
  },
  {
   "cell_type": "code",
   "execution_count": null,
   "metadata": {},
   "outputs": [],
   "source": [
    "\"\"\"\n",
    "Problem 7 \n",
    "2nd Customize graph\n",
    "\"\"\"\n",
    "plt.title(\"Thickness of folded paper\")\n",
    "plt.xlabel(\"Number of folds\")\n",
    "plt.ylabel(\"Thickness[m]\")\n",
    "plt.tick_params(labelsize=15) # Make settings related to axis values\n",
    "plt.plot(visual,color='green')\n",
    "plt.show()"
   ]
  },
  {
   "cell_type": "code",
   "execution_count": null,
   "metadata": {},
   "outputs": [],
   "source": [
    "\"\"\"\n",
    "Problem 7 \n",
    "3rd Customize graph\n",
    "\"\"\"\n",
    "plt.title(\"Thickness of folded paper\")\n",
    "plt.xlabel(\"Number of folds\")\n",
    "plt.ylabel(\"Thickness[m]\")\n",
    "plt.tick_params(labelsize=15) # Make settings related to axis values\n",
    "plt.plot(visual,color='yellow', label = 'thickness')\n",
    "plt.legend(title='Parameter where:')\n",
    "plt.show()"
   ]
  }
 ],
 "metadata": {
  "kernelspec": {
   "display_name": "Python 3",
   "language": "python",
   "name": "python3"
  },
  "language_info": {
   "codemirror_mode": {
    "name": "ipython",
    "version": 3
   },
   "file_extension": ".py",
   "mimetype": "text/x-python",
   "name": "python",
   "nbconvert_exporter": "python",
   "pygments_lexer": "ipython3",
   "version": "3.8.5"
  }
 },
 "nbformat": 4,
 "nbformat_minor": 4
}
