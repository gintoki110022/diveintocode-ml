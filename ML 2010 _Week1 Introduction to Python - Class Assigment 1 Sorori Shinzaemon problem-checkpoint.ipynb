{
 "cells": [
  {
   "cell_type": "code",
   "execution_count": 13,
   "metadata": {},
   "outputs": [
    {
     "name": "stdout",
     "output_type": "stream",
     "text": [
      "Number of grains of rice on the 100th day: 633825300114114700748351602688 grains \n",
      "Length of the list Visual: 100\n",
      "Elements of the list Visual: [1, 2, 4, 8, 16, 32, 64, 128, 256, 512, 1024, 2048, 4096, 8192, 16384, 32768, 65536, 131072, 262144, 524288, 1048576, 2097152, 4194304, 8388608, 16777216, 33554432, 67108864, 134217728, 268435456, 536870912, 1073741824, 2147483648, 4294967296, 8589934592, 17179869184, 34359738368, 68719476736, 137438953472, 274877906944, 549755813888, 1099511627776, 2199023255552, 4398046511104, 8796093022208, 17592186044416, 35184372088832, 70368744177664, 140737488355328, 281474976710656, 562949953421312, 1125899906842624, 2251799813685248, 4503599627370496, 9007199254740992, 18014398509481984, 36028797018963968, 72057594037927936, 144115188075855872, 288230376151711744, 576460752303423488, 1152921504606846976, 2305843009213693952, 4611686018427387904, 9223372036854775808, 18446744073709551616, 36893488147419103232, 73786976294838206464, 147573952589676412928, 295147905179352825856, 590295810358705651712, 1180591620717411303424, 2361183241434822606848, 4722366482869645213696, 9444732965739290427392, 18889465931478580854784, 37778931862957161709568, 75557863725914323419136, 151115727451828646838272, 302231454903657293676544, 604462909807314587353088, 1208925819614629174706176, 2417851639229258349412352, 4835703278458516698824704, 9671406556917033397649408, 19342813113834066795298816, 38685626227668133590597632, 77371252455336267181195264, 154742504910672534362390528, 309485009821345068724781056, 618970019642690137449562112, 1237940039285380274899124224, 2475880078570760549798248448, 4951760157141521099596496896, 9903520314283042199192993792, 19807040628566084398385987584, 39614081257132168796771975168, 79228162514264337593543950336, 158456325028528675187087900672, 316912650057057350374175801344, 633825300114114700748351602688]\n"
     ]
    },
    {
     "data": {
      "image/png": "[encoded data removed]",
      "text/plain": [
       "<Figure size 432x288 with 1 Axes>"
      ]
     },
     "metadata": {
      "needs_background": "light"
     },
     "output_type": "display_data"
    }
   ],
   "source": [
    "\"\"\"\n",
    "Problem 1 - Number of grains of rice on the 100th day\n",
    "\"\"\"\n",
    "rice_num = 1\n",
    "visual = []\n",
    "visual.append(rice_num)\n",
    "for t in range(99):\n",
    "    rice_num = rice_num*2\n",
    "    visual.append(rice_num)\n",
    "print(\"Number of grains of rice on the 100th day: {} grains \".format(rice_num))\n",
    "print(\"Length of the list Visual:\",len(visual))\n",
    "print(\"Elements of the list Visual:\",visual)\n",
    "import matplotlib.pyplot as plt\n",
    "%matplotlib inline\n",
    "plt.title(\"Number of grains of rice in 100 days\")\n",
    "plt.xlabel(\"Day\")\n",
    "plt.ylabel(\"Number of rice [grain]\")\n",
    "plt.plot(visual) # Enter the variable name of the list in \"List name\"\n",
    "plt.show()"
   ]
  },
  {
   "cell_type": "code",
   "execution_count": 60,
   "metadata": {},
   "outputs": [
    {
     "data": {
      "image/png": "[encoded data removed]",
      "text/plain": [
       "<Figure size 432x288 with 1 Axes>"
      ]
     },
     "metadata": {
      "needs_background": "light"
     },
     "output_type": "display_data"
    },
    {
     "name": "stdout",
     "output_type": "stream",
     "text": [
      "Number of grains of rice on the 10th day: 512 grains \n"
     ]
    }
   ],
   "source": [
    "\"\"\"\n",
    "Problem 2 - Number of rice grains outside of the 100th day\n",
    "\"\"\"\n",
    "import matplotlib.pyplot as plt\n",
    "def compute_sorori_shinzaemon(day=100):\n",
    "    \"\"\"\n",
    "    A function that verifies the anecdote of rice by Sorori Shinzaemon. Calculate the number of rice grains per day.\n",
    "    Parameteres\n",
    "    --------------\n",
    "    day: int\n",
    "        Number of days to get rice (default : 100)\n",
    "    Returns\n",
    "    --------------\n",
    "    list_n_grains : list\n",
    "        List of the number of rice you get one day (the length of the list is equal to day)\n",
    "    list_total_grains : list\n",
    "        List of the total number of rice you will receive by a certain day (the length of the list will be equal to day)\n",
    "    \"\"\"\n",
    "    rice_num = 1\n",
    "    list_total_grains = [] \n",
    "    list_n_grains = [0]\n",
    "    list_total_grains.append(rice_num)\n",
    "    for t in range(day-1):\n",
    "        list_n_grains.append(rice_num)\n",
    "        rice_num = rice_num*2\n",
    "        list_total_grains.append(rice_num)\n",
    "    %matplotlib inline\n",
    "    plt.title(\"Number of grains of rice in {} days\". format(day))\n",
    "    plt.xlabel(\"Day\")\n",
    "    plt.ylabel(\"Number of rice [grain]\")\n",
    "    plt.plot(list_total_grains) \n",
    "    plt.show()\n",
    "    print(\"Number of grains of rice on the {}th day: {} grains \".format(day,rice_num))\n",
    "    return list_n_grains, list_total_grains\n",
    "    # Done on 14/03/2021 - 10 days after the first day\n",
    "list_n_grains, list_total_grains = compute_sorori_shinzaemon(day=10)\n"
   ]
  },
  {
   "cell_type": "code",
   "execution_count": 62,
   "metadata": {},
   "outputs": [
    {
     "name": "stdout",
     "output_type": "stream",
     "text": [
      "Number of grains of rice on the 180th day: 766247770432944429179173513575154591809369561091801088 grains \n",
      "Number of days for 66 people to live: 6.046778491421594e+47 days \n"
     ]
    }
   ],
   "source": [
    "\"\"\"\n",
    "Problem 3 - How many people can live for how many days with the rice we get?\n",
    "\"\"\"\n",
    "rice_per_day = 19200 \n",
    "\"\"\"\n",
    "for 1 adult due to The United Nations' World Food Program research \n",
    "Reference: https://www.google.com/search?client=firefox-b-d&q=how+many+grains+of+rice+for+1+people+a+day\n",
    "\"\"\"\n",
    "rice_num = 1\n",
    "visual = []\n",
    "visual.append(rice_num)\n",
    "for t in range(180-1):\n",
    "    rice_num = rice_num*2\n",
    "    visual.append(rice_num)\n",
    "print(\"Number of grains of rice on the 180th day: {} grains \".format(rice_num))\n",
    "import matplotlib.pyplot as plt\n",
    "def compute_p3(grains, people):\n",
    "    \"\"\"\n",
    "    A function that verifies how many days the number of people in this class can live with \n",
    "    the grains of rice they receive for the duration of the course. Calculate the number of \n",
    "    rice grains per day.\n",
    "    Parameteres\n",
    "    --------------\n",
    "    grains: int\n",
    "        Number of rice grains = Number of rice grains on 180th \n",
    "        (this course duration) days of Sorori Shinzaemon problem\n",
    "    people: int\n",
    "        Number of people in the class (66 people)\n",
    "    Returns\n",
    "    --------------\n",
    "    total_day: int\n",
    "       Number of days that we can live with the above amount of rice\n",
    "    \"\"\"\n",
    "    total_day = grains/(people*rice_per_day)\n",
    "    return total_day\n",
    "total_day = compute_p3(grains = rice_num, people=66)\n",
    "print(\"Number of days for 66 people to live: {} days \".format(total_day))"
   ]
  },
  {
   "cell_type": "code",
   "execution_count": null,
   "metadata": {},
   "outputs": [],
   "source": []
  }
 ],
 "metadata": {
  "kernelspec": {
   "display_name": "Python 3",
   "language": "python",
   "name": "python3"
  },
  "language_info": {
   "codemirror_mode": {
    "name": "ipython",
    "version": 3
   },
   "file_extension": ".py",
   "mimetype": "text/x-python",
   "name": "python",
   "nbconvert_exporter": "python",
   "pygments_lexer": "ipython3",
   "version": "3.8.5"
  }
 },
 "nbformat": 4,
 "nbformat_minor": 4
}
